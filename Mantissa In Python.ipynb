{
 "cells": [
  {
   "cell_type": "code",
   "execution_count": 7,
   "id": "96a96023",
   "metadata": {},
   "outputs": [
    {
     "name": "stdout",
     "output_type": "stream",
     "text": [
      "IEEE Standard 754 representation of  100.875  is :\n",
      "0|10000101|10010011100000000000000\n"
     ]
    }
   ],
   "source": [
    "def binaryOfFraction(fraction):\n",
    " \n",
    "    binary = str()\n",
    "    while (fraction):\n",
    "        fraction *= 2\n",
    "        if (fraction >= 1):\n",
    "            int_part = 1\n",
    "            fraction -= 1\n",
    "        else:\n",
    "            int_part = 0\n",
    "\n",
    "        binary += str(int_part)\n",
    "    return binary\n",
    " \n",
    "def floatingPoint(real_no):\n",
    "    sign_bit = 0\n",
    "    if(real_no < 0):\n",
    "        sign_bit = 1\n",
    "    real_no = abs(real_no)\n",
    "    int_str = bin(int(real_no))[2 : ]\n",
    "    \n",
    "    fraction_str = binaryOfFraction(real_no - int(real_no))\n",
    "    ind = int_str.index('1')\n",
    "    exp_str = bin((len(int_str) - ind - 1) + 127)[2 : ]\n",
    "    mant_str = int_str[ind + 1 : ] + fraction_str\n",
    "    mant_str = mant_str + ('0' * (23 - len(mant_str)))\n",
    "    return sign_bit, exp_str, mant_str\n",
    "if __name__ == \"__main__\":\n",
    "    user_input = 100.875\n",
    "    sign_bit, exp_str, mant_str = floatingPoint(user_input)\n",
    "    ieee_32 = str(sign_bit) + '|' + exp_str + '|' + mant_str\n",
    "    print(\"IEEE Standard 754 representation of \",user_input, \" is :\")\n",
    "    print(ieee_32)"
   ]
  },
  {
   "cell_type": "code",
   "execution_count": null,
   "id": "ce226da6",
   "metadata": {},
   "outputs": [],
   "source": []
  }
 ],
 "metadata": {
  "kernelspec": {
   "display_name": "Python 3 (ipykernel)",
   "language": "python",
   "name": "python3"
  },
  "language_info": {
   "codemirror_mode": {
    "name": "ipython",
    "version": 3
   },
   "file_extension": ".py",
   "mimetype": "text/x-python",
   "name": "python",
   "nbconvert_exporter": "python",
   "pygments_lexer": "ipython3",
   "version": "3.9.12"
  }
 },
 "nbformat": 4,
 "nbformat_minor": 5
}
