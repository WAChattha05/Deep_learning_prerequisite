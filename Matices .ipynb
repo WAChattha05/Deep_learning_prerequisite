{
 "cells": [
  {
   "cell_type": "markdown",
   "id": "ab5335a9",
   "metadata": {},
   "source": [
    "Vector / Matrix\n"
   ]
  },
  {
   "cell_type": "code",
   "execution_count": 8,
   "id": "1ba52bfa",
   "metadata": {},
   "outputs": [],
   "source": [
    "class Vector: \n",
    "    def __init__(self, x = 0.0, y = 0.0): \n",
    "        self.x = x\n",
    "        self.y = y \n",
    "    \n",
    "    def __str__(self): \n",
    "        return \"[{}, {}]\".format(str(self.x), str(self.y))"
   ]
  },
  {
   "cell_type": "code",
   "execution_count": 9,
   "id": "629095df",
   "metadata": {},
   "outputs": [],
   "source": [
    "class Matrix: \n",
    " \n",
    "    def __init__(self, dims, fill):    \n",
    "        self.rows = dims[0]  \n",
    "        self.cols = dims[1]   \n",
    "        \n",
    "        self.A = [\n",
    "            [fill] * self.cols             # for each row, this many columns \n",
    "            for i in range(self.rows)      # create this many rows \n",
    "        ]"
   ]
  },
  {
   "cell_type": "code",
   "execution_count": 10,
   "id": "f49ca053",
   "metadata": {},
   "outputs": [],
   "source": [
    "m = Matrix((3, 4), 2.0)"
   ]
  },
  {
   "cell_type": "code",
   "execution_count": 11,
   "id": "a773ec7f",
   "metadata": {},
   "outputs": [
    {
     "name": "stdout",
     "output_type": "stream",
     "text": [
      "<__main__.Matrix object at 0x00000175D3A3DD90>\n"
     ]
    }
   ],
   "source": [
    "print(m)"
   ]
  },
  {
   "cell_type": "code",
   "execution_count": 12,
   "id": "85ea5bae",
   "metadata": {},
   "outputs": [],
   "source": [
    "def __str__(self):     \n",
    "    rows = len(self.A) # Get the first dimension \n",
    "    ret = ''     \n",
    "    \n",
    "    for i in range(rows):\n",
    "        cols = len(self.A[i]) \n",
    "        \n",
    "        for j in range(cols): \n",
    "            ret += str(self.A[i][j]) + \"\\t\"\n",
    "        ret += \"\\n\"\n",
    "\n",
    "    return ret\n",
    "\n",
    "\n",
    "Matrix.__str__ = __str__ "
   ]
  },
  {
   "cell_type": "code",
   "execution_count": 13,
   "id": "65977f3d",
   "metadata": {},
   "outputs": [
    {
     "name": "stdout",
     "output_type": "stream",
     "text": [
      "2.0\t2.0\t2.0\t2.0\t\n",
      "2.0\t2.0\t2.0\t2.0\t\n",
      "2.0\t2.0\t2.0\t2.0\t\n",
      "\n"
     ]
    }
   ],
   "source": [
    "print(m)"
   ]
  },
  {
   "cell_type": "code",
   "execution_count": 14,
   "id": "9d285c72",
   "metadata": {},
   "outputs": [
    {
     "name": "stdout",
     "output_type": "stream",
     "text": [
      "CPU times: total: 0 ns\n",
      "Wall time: 0 ns\n"
     ]
    }
   ],
   "source": [
    "%time n = Matrix((100, 100), 0.0) #a magic command tell us how much a cell will take to execute"
   ]
  },
  {
   "cell_type": "code",
   "execution_count": 15,
   "id": "c26a355b",
   "metadata": {},
   "outputs": [
    {
     "name": "stdout",
     "output_type": "stream",
     "text": [
      "48\n",
      "48\n"
     ]
    }
   ],
   "source": [
    "from sys import getsizeof\n",
    "print(getsizeof(m))  # 3 x 4 matrix\n",
    "print(getsizeof(n))  # 100 x 100  matrix"
   ]
  },
  {
   "cell_type": "code",
   "execution_count": 17,
   "id": "62dd56ed",
   "metadata": {},
   "outputs": [
    {
     "name": "stdout",
     "output_type": "stream",
     "text": [
      "Collecting pympler\n",
      "  Downloading Pympler-1.0.1-py3-none-any.whl (164 kB)\n",
      "Installing collected packages: pympler\n",
      "Successfully installed pympler-1.0.1\n"
     ]
    }
   ],
   "source": [
    "!pip install pympler  "
   ]
  },
  {
   "cell_type": "code",
   "execution_count": 18,
   "id": "13eab2df",
   "metadata": {},
   "outputs": [],
   "source": [
    "from pympler.asizeof import asizeof"
   ]
  },
  {
   "cell_type": "code",
   "execution_count": 19,
   "id": "31128bb8",
   "metadata": {},
   "outputs": [
    {
     "data": {
      "text/plain": [
       "(760, 86896)"
      ]
     },
     "execution_count": 19,
     "metadata": {},
     "output_type": "execute_result"
    }
   ],
   "source": [
    "asizeof(m), asizeof(n) # size of matrix in memory"
   ]
  },
  {
   "cell_type": "code",
   "execution_count": 20,
   "id": "7a15d0eb",
   "metadata": {},
   "outputs": [],
   "source": [
    "dim = 5000"
   ]
  },
  {
   "cell_type": "code",
   "execution_count": 21,
   "id": "29b37e06",
   "metadata": {},
   "outputs": [
    {
     "name": "stdout",
     "output_type": "stream",
     "text": [
      "CPU times: total: 328 ms\n",
      "Wall time: 342 ms\n"
     ]
    }
   ],
   "source": [
    "%time  m = Matrix((dim, dim), 0.0) # matrix of size 5000 x 5000 in which  all elements are 0"
   ]
  },
  {
   "cell_type": "code",
   "execution_count": 22,
   "id": "acfdd8cf",
   "metadata": {},
   "outputs": [
    {
     "name": "stdout",
     "output_type": "stream",
     "text": [
      "191.04 MBs\n"
     ]
    }
   ],
   "source": [
    "size = asizeof(m) / (1024 * 1024)\n",
    "\n",
    "print(\"{:.2f} MBs\".format(size))"
   ]
  },
  {
   "cell_type": "code",
   "execution_count": 23,
   "id": "89d4e755",
   "metadata": {},
   "outputs": [],
   "source": [
    "# recall that we can get values from our matrix using indices \n",
    "def get(self, i, j): \n",
    "    \n",
    "    # Error checking \n",
    "    if i < 0 or i > self.rows: \n",
    "        raise ValueError(\"Row index out of range.\")\n",
    "    if j < 0 or j > self.cols: \n",
    "        raise ValueError(\"Column index out of range.\")\n",
    "    \n",
    "    # Value return\n",
    "    return self.A[i][j]\n",
    "\n",
    "Matrix.get = get"
   ]
  },
  {
   "cell_type": "code",
   "execution_count": 24,
   "id": "e0bebb2d",
   "metadata": {},
   "outputs": [
    {
     "data": {
      "text/plain": [
       "0.0"
      ]
     },
     "execution_count": 24,
     "metadata": {},
     "output_type": "execute_result"
    }
   ],
   "source": [
    "m.get(1, 2)"
   ]
  },
  {
   "cell_type": "code",
   "execution_count": 25,
   "id": "106be3db",
   "metadata": {},
   "outputs": [
    {
     "data": {
      "text/plain": [
       "0.0"
      ]
     },
     "execution_count": 25,
     "metadata": {},
     "output_type": "execute_result"
    }
   ],
   "source": [
    "m.get(15, 0)"
   ]
  },
  {
   "cell_type": "code",
   "execution_count": 26,
   "id": "5e0599d8",
   "metadata": {},
   "outputs": [
    {
     "data": {
      "text/plain": [
       "0.0"
      ]
     },
     "execution_count": 26,
     "metadata": {},
     "output_type": "execute_result"
    }
   ],
   "source": [
    "m.get(1, 10)"
   ]
  },
  {
   "cell_type": "code",
   "execution_count": 27,
   "id": "d52d3f9c",
   "metadata": {},
   "outputs": [],
   "source": [
    "class Matrix: \n",
    " \n",
    "    def __init__(self, dims):    \n",
    "        self.rows = dims[0]  \n",
    "        self.cols = dims[1]   \n",
    "        self.vals = {} \n",
    "        \n",
    "        # Let's assume for a minute that fill is 0 \n",
    "        \n",
    "    # obviously need a new __str__ here ...."
   ]
  },
  {
   "cell_type": "code",
   "execution_count": 28,
   "id": "e505f789",
   "metadata": {},
   "outputs": [],
   "source": [
    "def set(self, i, j, val): \n",
    "    self.vals[   (i, j)    ] = val \n",
    "\n",
    "\n",
    "Matrix.set = set "
   ]
  },
  {
   "cell_type": "code",
   "execution_count": 29,
   "id": "ac8249bd",
   "metadata": {},
   "outputs": [],
   "source": [
    "# sparse implementation of get \n",
    "def get(self, i, j): \n",
    "    \n",
    "    # Error checking \n",
    "    if i < 0 or i > self.rows: \n",
    "        raise ValueError(\"Row index out of range.\")\n",
    "    if j < 0 or j > self.cols: \n",
    "        raise ValueError(\"Column index out of range.\")\n",
    "    \n",
    "    \n",
    "    # value return \n",
    "    if (i, j) in self.vals: \n",
    "        return self.vals[  (i, j)  ]\n",
    "    \n",
    "    return 0.0\n",
    "    \n",
    "Matrix.get = get"
   ]
  },
  {
   "cell_type": "code",
   "execution_count": 30,
   "id": "9c035be5",
   "metadata": {},
   "outputs": [],
   "source": [
    "m = Matrix((5, 5))"
   ]
  },
  {
   "cell_type": "code",
   "execution_count": 31,
   "id": "ab01d543",
   "metadata": {},
   "outputs": [
    {
     "name": "stdout",
     "output_type": "stream",
     "text": [
      "{}\n"
     ]
    }
   ],
   "source": [
    "print(m.vals)"
   ]
  },
  {
   "cell_type": "code",
   "execution_count": 32,
   "id": "2a036a85",
   "metadata": {},
   "outputs": [
    {
     "data": {
      "text/plain": [
       "0.0"
      ]
     },
     "execution_count": 32,
     "metadata": {},
     "output_type": "execute_result"
    }
   ],
   "source": [
    "\n",
    "m.get(1, 1)"
   ]
  },
  {
   "cell_type": "code",
   "execution_count": null,
   "id": "8a8b5e7d",
   "metadata": {},
   "outputs": [],
   "source": []
  }
 ],
 "metadata": {
  "kernelspec": {
   "display_name": "Python 3 (ipykernel)",
   "language": "python",
   "name": "python3"
  },
  "language_info": {
   "codemirror_mode": {
    "name": "ipython",
    "version": 3
   },
   "file_extension": ".py",
   "mimetype": "text/x-python",
   "name": "python",
   "nbconvert_exporter": "python",
   "pygments_lexer": "ipython3",
   "version": "3.9.12"
  }
 },
 "nbformat": 4,
 "nbformat_minor": 5
}
