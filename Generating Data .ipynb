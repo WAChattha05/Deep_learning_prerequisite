{
 "cells": [
  {
   "cell_type": "markdown",
   "id": "499fe0be",
   "metadata": {},
   "source": [
    "Generating Data"
   ]
  },
  {
   "cell_type": "markdown",
   "id": "bf3b0eac",
   "metadata": {},
   "source": [
    "you need to generate large matrices whose values have nothing to do with the\n",
    "data one example of that is with neural networks a neural network is made up of many large matrices which you will\n",
    "randomly initialize and then train using an algorithm called back propagation another common reason to create your own\n",
    "arrays is to generate synthetic data to test your algorithm on often using synthetic data is extremely useful\n",
    "because it allows us to test the efficiency of our models"
   ]
  },
  {
   "cell_type": "code",
   "execution_count": 3,
   "id": "1507e4d7",
   "metadata": {},
   "outputs": [],
   "source": [
    "import numpy as np"
   ]
  },
  {
   "cell_type": "code",
   "execution_count": 4,
   "id": "21068c26",
   "metadata": {},
   "outputs": [
    {
     "data": {
      "text/plain": [
       "array([[0., 0., 0.],\n",
       "       [0., 0., 0.]])"
      ]
     },
     "execution_count": 4,
     "metadata": {},
     "output_type": "execute_result"
    }
   ],
   "source": [
    "np.zeros((2,3))"
   ]
  },
  {
   "cell_type": "code",
   "execution_count": 5,
   "id": "3b6de181",
   "metadata": {},
   "outputs": [
    {
     "data": {
      "text/plain": [
       "array([[1., 1., 1.],\n",
       "       [1., 1., 1.]])"
      ]
     },
     "execution_count": 5,
     "metadata": {},
     "output_type": "execute_result"
    }
   ],
   "source": [
    "np.ones((2,3))"
   ]
  },
  {
   "cell_type": "code",
   "execution_count": 6,
   "id": "57cadfb4",
   "metadata": {},
   "outputs": [
    {
     "data": {
      "text/plain": [
       "array([[5., 5., 5.],\n",
       "       [5., 5., 5.]])"
      ]
     },
     "execution_count": 6,
     "metadata": {},
     "output_type": "execute_result"
    }
   ],
   "source": [
    "5*np.ones((2,3))"
   ]
  },
  {
   "cell_type": "code",
   "execution_count": 7,
   "id": "0a22e0c1",
   "metadata": {},
   "outputs": [
    {
     "data": {
      "text/plain": [
       "array([[1., 0., 0.],\n",
       "       [0., 1., 0.],\n",
       "       [0., 0., 1.]])"
      ]
     },
     "execution_count": 7,
     "metadata": {},
     "output_type": "execute_result"
    }
   ],
   "source": [
    "# numpy function to create identity matrix >>> eye\n",
    "np.eye(3)\n"
   ]
  },
  {
   "cell_type": "code",
   "execution_count": 8,
   "id": "f797e9fe",
   "metadata": {},
   "outputs": [
    {
     "data": {
      "text/plain": [
       "0.9076475127318312"
      ]
     },
     "execution_count": 8,
     "metadata": {},
     "output_type": "execute_result"
    }
   ],
   "source": [
    "np.random.random() # in random all numbers would between 0 and 1"
   ]
  },
  {
   "cell_type": "code",
   "execution_count": 9,
   "id": "ca01d186",
   "metadata": {},
   "outputs": [
    {
     "data": {
      "text/plain": [
       "array([[0.90304366, 0.72234697, 0.56910736],\n",
       "       [0.68685516, 0.55284648, 0.02731886]])"
      ]
     },
     "execution_count": 9,
     "metadata": {},
     "output_type": "execute_result"
    }
   ],
   "source": [
    "np.random.random((2,3))# random matrix of size 2x3"
   ]
  },
  {
   "cell_type": "code",
   "execution_count": 11,
   "id": "b75b6926",
   "metadata": {},
   "outputs": [
    {
     "data": {
      "text/plain": [
       "array([[ 0.45231709,  0.08032136, -1.93194602],\n",
       "       [-0.67922138,  0.91934363,  0.52567758]])"
      ]
     },
     "execution_count": 11,
     "metadata": {},
     "output_type": "execute_result"
    }
   ],
   "source": [
    "#guassian\n",
    "np.random.randn(2,3)"
   ]
  },
  {
   "cell_type": "code",
   "execution_count": 13,
   "id": "0457830e",
   "metadata": {},
   "outputs": [],
   "source": [
    "R = np.random.randn(10000)"
   ]
  },
  {
   "cell_type": "code",
   "execution_count": 14,
   "id": "4f929a5f",
   "metadata": {},
   "outputs": [
    {
     "data": {
      "text/plain": [
       "array([ 0.99457695,  0.94406747,  0.14135347, ..., -0.37289546,\n",
       "       -0.68872986, -0.9062258 ])"
      ]
     },
     "execution_count": 14,
     "metadata": {},
     "output_type": "execute_result"
    }
   ],
   "source": [
    "R"
   ]
  },
  {
   "cell_type": "code",
   "execution_count": 15,
   "id": "5b1a9c6b",
   "metadata": {},
   "outputs": [
    {
     "data": {
      "text/plain": [
       "0.002332752425129738"
      ]
     },
     "execution_count": 15,
     "metadata": {},
     "output_type": "execute_result"
    }
   ],
   "source": [
    "R.mean()"
   ]
  },
  {
   "cell_type": "code",
   "execution_count": 16,
   "id": "2f52e271",
   "metadata": {},
   "outputs": [
    {
     "data": {
      "text/plain": [
       "0.002332752425129738"
      ]
     },
     "execution_count": 16,
     "metadata": {},
     "output_type": "execute_result"
    }
   ],
   "source": [
    "np.mean(R)"
   ]
  },
  {
   "cell_type": "code",
   "execution_count": 17,
   "id": "4f8613b5",
   "metadata": {},
   "outputs": [
    {
     "data": {
      "text/plain": [
       "0.9904182999525656"
      ]
     },
     "execution_count": 17,
     "metadata": {},
     "output_type": "execute_result"
    }
   ],
   "source": [
    " R.var()"
   ]
  },
  {
   "cell_type": "code",
   "execution_count": 18,
   "id": "9dcd3003",
   "metadata": {},
   "outputs": [
    {
     "data": {
      "text/plain": [
       "0.9951976185424509"
      ]
     },
     "execution_count": 18,
     "metadata": {},
     "output_type": "execute_result"
    }
   ],
   "source": [
    "R.std()#sq.rt of variance"
   ]
  },
  {
   "cell_type": "code",
   "execution_count": 19,
   "id": "45113633",
   "metadata": {},
   "outputs": [
    {
     "data": {
      "text/plain": [
       "array(0.99051735)"
      ]
     },
     "execution_count": 19,
     "metadata": {},
     "output_type": "execute_result"
    }
   ],
   "source": [
    "np.cov(R)"
   ]
  },
  {
   "cell_type": "code",
   "execution_count": null,
   "id": "b1c1ed1a",
   "metadata": {},
   "outputs": [],
   "source": [
    " "
   ]
  }
 ],
 "metadata": {
  "kernelspec": {
   "display_name": "Python 3 (ipykernel)",
   "language": "python",
   "name": "python3"
  },
  "language_info": {
   "codemirror_mode": {
    "name": "ipython",
    "version": 3
   },
   "file_extension": ".py",
   "mimetype": "text/x-python",
   "name": "python",
   "nbconvert_exporter": "python",
   "pygments_lexer": "ipython3",
   "version": "3.9.12"
  }
 },
 "nbformat": 4,
 "nbformat_minor": 5
}
